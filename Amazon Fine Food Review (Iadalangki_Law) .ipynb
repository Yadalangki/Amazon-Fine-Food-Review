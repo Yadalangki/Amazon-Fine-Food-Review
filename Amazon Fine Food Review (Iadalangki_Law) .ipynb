{
 "cells": [
  {
   "cell_type": "markdown",
   "id": "565393b3",
   "metadata": {},
   "source": [
    "**Amazon Fine Food Reviews by applying Natural Language Processing**"
   ]
  },
  {
   "cell_type": "code",
   "execution_count": 55,
   "id": "46962920",
   "metadata": {},
   "outputs": [],
   "source": [
    "import pandas as pd\n",
    "import numpy as np\n",
    "import matplotlib.pyplot as plt\n",
    "%matplotlib inline\n",
    "import seaborn as sns\n",
    "import sklearn\n",
    "import warnings; warnings.simplefilter('ignore')"
   ]
  },
  {
   "cell_type": "code",
   "execution_count": 7,
   "id": "f8305edb",
   "metadata": {},
   "outputs": [],
   "source": [
    "df = pd.read_csv('Reviews.csv')"
   ]
  },
  {
   "cell_type": "code",
   "execution_count": 4,
   "id": "9dbe7c17",
   "metadata": {},
   "outputs": [
    {
     "name": "stdout",
     "output_type": "stream",
     "text": [
      "<class 'pandas.core.frame.DataFrame'>\n",
      "RangeIndex: 568454 entries, 0 to 568453\n",
      "Data columns (total 10 columns):\n",
      " #   Column                  Non-Null Count   Dtype \n",
      "---  ------                  --------------   ----- \n",
      " 0   Id                      568454 non-null  int64 \n",
      " 1   ProductId               568454 non-null  object\n",
      " 2   UserId                  568454 non-null  object\n",
      " 3   ProfileName             568438 non-null  object\n",
      " 4   HelpfulnessNumerator    568454 non-null  int64 \n",
      " 5   HelpfulnessDenominator  568454 non-null  int64 \n",
      " 6   Score                   568454 non-null  int64 \n",
      " 7   Time                    568454 non-null  int64 \n",
      " 8   Summary                 568427 non-null  object\n",
      " 9   Text                    568454 non-null  object\n",
      "dtypes: int64(5), object(5)\n",
      "memory usage: 43.4+ MB\n"
     ]
    }
   ],
   "source": [
    "df.info()"
   ]
  },
  {
   "cell_type": "code",
   "execution_count": 5,
   "id": "134534d9",
   "metadata": {},
   "outputs": [
    {
     "data": {
      "text/html": [
       "<div>\n",
       "<style scoped>\n",
       "    .dataframe tbody tr th:only-of-type {\n",
       "        vertical-align: middle;\n",
       "    }\n",
       "\n",
       "    .dataframe tbody tr th {\n",
       "        vertical-align: top;\n",
       "    }\n",
       "\n",
       "    .dataframe thead th {\n",
       "        text-align: right;\n",
       "    }\n",
       "</style>\n",
       "<table border=\"1\" class=\"dataframe\">\n",
       "  <thead>\n",
       "    <tr style=\"text-align: right;\">\n",
       "      <th></th>\n",
       "      <th>Id</th>\n",
       "      <th>ProductId</th>\n",
       "      <th>UserId</th>\n",
       "      <th>ProfileName</th>\n",
       "      <th>HelpfulnessNumerator</th>\n",
       "      <th>HelpfulnessDenominator</th>\n",
       "      <th>Score</th>\n",
       "      <th>Time</th>\n",
       "      <th>Summary</th>\n",
       "      <th>Text</th>\n",
       "    </tr>\n",
       "  </thead>\n",
       "  <tbody>\n",
       "    <tr>\n",
       "      <th>0</th>\n",
       "      <td>1</td>\n",
       "      <td>B001E4KFG0</td>\n",
       "      <td>A3SGXH7AUHU8GW</td>\n",
       "      <td>delmartian</td>\n",
       "      <td>1</td>\n",
       "      <td>1</td>\n",
       "      <td>5</td>\n",
       "      <td>1303862400</td>\n",
       "      <td>Good Quality Dog Food</td>\n",
       "      <td>I have bought several of the Vitality canned d...</td>\n",
       "    </tr>\n",
       "    <tr>\n",
       "      <th>1</th>\n",
       "      <td>2</td>\n",
       "      <td>B00813GRG4</td>\n",
       "      <td>A1D87F6ZCVE5NK</td>\n",
       "      <td>dll pa</td>\n",
       "      <td>0</td>\n",
       "      <td>0</td>\n",
       "      <td>1</td>\n",
       "      <td>1346976000</td>\n",
       "      <td>Not as Advertised</td>\n",
       "      <td>Product arrived labeled as Jumbo Salted Peanut...</td>\n",
       "    </tr>\n",
       "    <tr>\n",
       "      <th>2</th>\n",
       "      <td>3</td>\n",
       "      <td>B000LQOCH0</td>\n",
       "      <td>ABXLMWJIXXAIN</td>\n",
       "      <td>Natalia Corres \"Natalia Corres\"</td>\n",
       "      <td>1</td>\n",
       "      <td>1</td>\n",
       "      <td>4</td>\n",
       "      <td>1219017600</td>\n",
       "      <td>\"Delight\" says it all</td>\n",
       "      <td>This is a confection that has been around a fe...</td>\n",
       "    </tr>\n",
       "    <tr>\n",
       "      <th>3</th>\n",
       "      <td>4</td>\n",
       "      <td>B000UA0QIQ</td>\n",
       "      <td>A395BORC6FGVXV</td>\n",
       "      <td>Karl</td>\n",
       "      <td>3</td>\n",
       "      <td>3</td>\n",
       "      <td>2</td>\n",
       "      <td>1307923200</td>\n",
       "      <td>Cough Medicine</td>\n",
       "      <td>If you are looking for the secret ingredient i...</td>\n",
       "    </tr>\n",
       "    <tr>\n",
       "      <th>4</th>\n",
       "      <td>5</td>\n",
       "      <td>B006K2ZZ7K</td>\n",
       "      <td>A1UQRSCLF8GW1T</td>\n",
       "      <td>Michael D. Bigham \"M. Wassir\"</td>\n",
       "      <td>0</td>\n",
       "      <td>0</td>\n",
       "      <td>5</td>\n",
       "      <td>1350777600</td>\n",
       "      <td>Great taffy</td>\n",
       "      <td>Great taffy at a great price.  There was a wid...</td>\n",
       "    </tr>\n",
       "  </tbody>\n",
       "</table>\n",
       "</div>"
      ],
      "text/plain": [
       "   Id   ProductId          UserId                      ProfileName  \\\n",
       "0   1  B001E4KFG0  A3SGXH7AUHU8GW                       delmartian   \n",
       "1   2  B00813GRG4  A1D87F6ZCVE5NK                           dll pa   \n",
       "2   3  B000LQOCH0   ABXLMWJIXXAIN  Natalia Corres \"Natalia Corres\"   \n",
       "3   4  B000UA0QIQ  A395BORC6FGVXV                             Karl   \n",
       "4   5  B006K2ZZ7K  A1UQRSCLF8GW1T    Michael D. Bigham \"M. Wassir\"   \n",
       "\n",
       "   HelpfulnessNumerator  HelpfulnessDenominator  Score        Time  \\\n",
       "0                     1                       1      5  1303862400   \n",
       "1                     0                       0      1  1346976000   \n",
       "2                     1                       1      4  1219017600   \n",
       "3                     3                       3      2  1307923200   \n",
       "4                     0                       0      5  1350777600   \n",
       "\n",
       "                 Summary                                               Text  \n",
       "0  Good Quality Dog Food  I have bought several of the Vitality canned d...  \n",
       "1      Not as Advertised  Product arrived labeled as Jumbo Salted Peanut...  \n",
       "2  \"Delight\" says it all  This is a confection that has been around a fe...  \n",
       "3         Cough Medicine  If you are looking for the secret ingredient i...  \n",
       "4            Great taffy  Great taffy at a great price.  There was a wid...  "
      ]
     },
     "execution_count": 5,
     "metadata": {},
     "output_type": "execute_result"
    }
   ],
   "source": [
    "df.head()"
   ]
  },
  {
   "cell_type": "code",
   "execution_count": 8,
   "id": "fec10907",
   "metadata": {},
   "outputs": [
    {
     "data": {
      "text/plain": [
       "(568454, 10)"
      ]
     },
     "execution_count": 8,
     "metadata": {},
     "output_type": "execute_result"
    }
   ],
   "source": [
    "df.shape"
   ]
  },
  {
   "cell_type": "code",
   "execution_count": 9,
   "id": "745da852",
   "metadata": {},
   "outputs": [
    {
     "name": "stdout",
     "output_type": "stream",
     "text": [
      "(568454,)\n",
      "   Id   ProductId          UserId                      ProfileName  \\\n",
      "0   1  B001E4KFG0  A3SGXH7AUHU8GW                       delmartian   \n",
      "1   2  B00813GRG4  A1D87F6ZCVE5NK                           dll pa   \n",
      "2   3  B000LQOCH0   ABXLMWJIXXAIN  Natalia Corres \"Natalia Corres\"   \n",
      "\n",
      "   HelpfulnessNumerator  HelpfulnessDenominator  Score        Time  \\\n",
      "0                     1                       1      5  1303862400   \n",
      "1                     0                       0      1  1346976000   \n",
      "2                     1                       1      4  1219017600   \n",
      "\n",
      "                 Summary                                               Text  \\\n",
      "0  Good Quality Dog Food  I have bought several of the Vitality canned d...   \n",
      "1      Not as Advertised  Product arrived labeled as Jumbo Salted Peanut...   \n",
      "2  \"Delight\" says it all  This is a confection that has been around a fe...   \n",
      "\n",
      "   Sentiment  \n",
      "0          1  \n",
      "1          0  \n",
      "2          1  \n"
     ]
    }
   ],
   "source": [
    "def partition(x):\n",
    "    if x < 3 :\n",
    "        return 0\n",
    "    return 1\n",
    "\n",
    "\n",
    "\n",
    "df['Sentiment'] = df['Score'].apply(partition)\n",
    "print(df['Sentiment'].shape) \n",
    "print(df.head(3))"
   ]
  },
  {
   "cell_type": "code",
   "execution_count": 10,
   "id": "6537e280",
   "metadata": {},
   "outputs": [],
   "source": [
    "duplicate_df= df[df.duplicated(subset = ['ProductId', 'ProfileName', 'Score', 'Time','Summary'], keep =  False)]"
   ]
  },
  {
   "cell_type": "code",
   "execution_count": 11,
   "id": "d5bee74e",
   "metadata": {},
   "outputs": [
    {
     "data": {
      "text/html": [
       "<div>\n",
       "<style scoped>\n",
       "    .dataframe tbody tr th:only-of-type {\n",
       "        vertical-align: middle;\n",
       "    }\n",
       "\n",
       "    .dataframe tbody tr th {\n",
       "        vertical-align: top;\n",
       "    }\n",
       "\n",
       "    .dataframe thead th {\n",
       "        text-align: right;\n",
       "    }\n",
       "</style>\n",
       "<table border=\"1\" class=\"dataframe\">\n",
       "  <thead>\n",
       "    <tr style=\"text-align: right;\">\n",
       "      <th></th>\n",
       "      <th>Id</th>\n",
       "      <th>ProductId</th>\n",
       "      <th>UserId</th>\n",
       "      <th>ProfileName</th>\n",
       "      <th>HelpfulnessNumerator</th>\n",
       "      <th>HelpfulnessDenominator</th>\n",
       "      <th>Score</th>\n",
       "      <th>Time</th>\n",
       "      <th>Summary</th>\n",
       "      <th>Text</th>\n",
       "      <th>Sentiment</th>\n",
       "    </tr>\n",
       "  </thead>\n",
       "  <tbody>\n",
       "    <tr>\n",
       "      <th>466</th>\n",
       "      <td>467</td>\n",
       "      <td>B000G6RYNE</td>\n",
       "      <td>A3PJZ8TU8FDQ1K</td>\n",
       "      <td>Jared Castle</td>\n",
       "      <td>0</td>\n",
       "      <td>0</td>\n",
       "      <td>5</td>\n",
       "      <td>1231718400</td>\n",
       "      <td>One bite and you'll become a \"chippoisseur\"</td>\n",
       "      <td>I'm addicted to salty and tangy flavors, so wh...</td>\n",
       "      <td>1</td>\n",
       "    </tr>\n",
       "    <tr>\n",
       "      <th>574</th>\n",
       "      <td>575</td>\n",
       "      <td>B000G6RYNE</td>\n",
       "      <td>A3PJZ8TU8FDQ1K</td>\n",
       "      <td>Jared Castle</td>\n",
       "      <td>2</td>\n",
       "      <td>2</td>\n",
       "      <td>5</td>\n",
       "      <td>1231718400</td>\n",
       "      <td>One bite and you'll become a \"chippoisseur\"</td>\n",
       "      <td>I'm addicted to salty and tangy flavors, so wh...</td>\n",
       "      <td>1</td>\n",
       "    </tr>\n",
       "    <tr>\n",
       "      <th>1084</th>\n",
       "      <td>1085</td>\n",
       "      <td>B0030N5K1I</td>\n",
       "      <td>A19U4T4I7UZGNM</td>\n",
       "      <td>3 dogs</td>\n",
       "      <td>3</td>\n",
       "      <td>3</td>\n",
       "      <td>1</td>\n",
       "      <td>1330992000</td>\n",
       "      <td>awful</td>\n",
       "      <td>This is not jerky, this is processed, hard lik...</td>\n",
       "      <td>0</td>\n",
       "    </tr>\n",
       "    <tr>\n",
       "      <th>1087</th>\n",
       "      <td>1088</td>\n",
       "      <td>B0030N5K1I</td>\n",
       "      <td>A19U4T4I7UZGNM</td>\n",
       "      <td>3 dogs</td>\n",
       "      <td>1</td>\n",
       "      <td>1</td>\n",
       "      <td>1</td>\n",
       "      <td>1330992000</td>\n",
       "      <td>awful</td>\n",
       "      <td>This is not jerky, this is processed, hard lik...</td>\n",
       "      <td>0</td>\n",
       "    </tr>\n",
       "    <tr>\n",
       "      <th>2630</th>\n",
       "      <td>2631</td>\n",
       "      <td>B0016FY6H6</td>\n",
       "      <td>A2NLZ3M0OJV9NX</td>\n",
       "      <td>Mark Bodzin</td>\n",
       "      <td>1</td>\n",
       "      <td>1</td>\n",
       "      <td>2</td>\n",
       "      <td>1313107200</td>\n",
       "      <td>Way too weak for my tastes</td>\n",
       "      <td>What can i say, I love iced tea. I drink a lot...</td>\n",
       "      <td>0</td>\n",
       "    </tr>\n",
       "    <tr>\n",
       "      <th>...</th>\n",
       "      <td>...</td>\n",
       "      <td>...</td>\n",
       "      <td>...</td>\n",
       "      <td>...</td>\n",
       "      <td>...</td>\n",
       "      <td>...</td>\n",
       "      <td>...</td>\n",
       "      <td>...</td>\n",
       "      <td>...</td>\n",
       "      <td>...</td>\n",
       "      <td>...</td>\n",
       "    </tr>\n",
       "    <tr>\n",
       "      <th>568007</th>\n",
       "      <td>568008</td>\n",
       "      <td>B0030VJ8YU</td>\n",
       "      <td>A20P8VC55KPPCT</td>\n",
       "      <td>FL Mom</td>\n",
       "      <td>3</td>\n",
       "      <td>3</td>\n",
       "      <td>5</td>\n",
       "      <td>1274486400</td>\n",
       "      <td>These pouches are great!</td>\n",
       "      <td>These pouches are so easy and convenient. They...</td>\n",
       "      <td>1</td>\n",
       "    </tr>\n",
       "    <tr>\n",
       "      <th>568008</th>\n",
       "      <td>568009</td>\n",
       "      <td>B0030VJ8YU</td>\n",
       "      <td>ATIHDHZYNQ0EI</td>\n",
       "      <td>Kristen O'donnell \"twinsmom\"</td>\n",
       "      <td>3</td>\n",
       "      <td>3</td>\n",
       "      <td>5</td>\n",
       "      <td>1270425600</td>\n",
       "      <td>Organic and Tasty!</td>\n",
       "      <td>I have 12 month olds and no time to write a gr...</td>\n",
       "      <td>1</td>\n",
       "    </tr>\n",
       "    <tr>\n",
       "      <th>568017</th>\n",
       "      <td>568018</td>\n",
       "      <td>B0030VJ8YU</td>\n",
       "      <td>A20P8VC55KPPCT</td>\n",
       "      <td>FL Mom</td>\n",
       "      <td>2</td>\n",
       "      <td>2</td>\n",
       "      <td>5</td>\n",
       "      <td>1274486400</td>\n",
       "      <td>These pouches are great!</td>\n",
       "      <td>These pouches are so easy and convenient. They...</td>\n",
       "      <td>1</td>\n",
       "    </tr>\n",
       "    <tr>\n",
       "      <th>568034</th>\n",
       "      <td>568035</td>\n",
       "      <td>B0030VJ8YU</td>\n",
       "      <td>A1S6HK2R1KUC5E</td>\n",
       "      <td>data1701</td>\n",
       "      <td>1</td>\n",
       "      <td>1</td>\n",
       "      <td>5</td>\n",
       "      <td>1318291200</td>\n",
       "      <td>Triplets love this!</td>\n",
       "      <td>This is very smooth and easy to feed to my tri...</td>\n",
       "      <td>1</td>\n",
       "    </tr>\n",
       "    <tr>\n",
       "      <th>568053</th>\n",
       "      <td>568054</td>\n",
       "      <td>B0030VJ8YU</td>\n",
       "      <td>A20P8VC55KPPCT</td>\n",
       "      <td>FL Mom</td>\n",
       "      <td>1</td>\n",
       "      <td>1</td>\n",
       "      <td>5</td>\n",
       "      <td>1274486400</td>\n",
       "      <td>These pouches are great!</td>\n",
       "      <td>These pouches are so easy and convenient.  The...</td>\n",
       "      <td>1</td>\n",
       "    </tr>\n",
       "  </tbody>\n",
       "</table>\n",
       "<p>2230 rows × 11 columns</p>\n",
       "</div>"
      ],
      "text/plain": [
       "            Id   ProductId          UserId                   ProfileName  \\\n",
       "466        467  B000G6RYNE  A3PJZ8TU8FDQ1K                  Jared Castle   \n",
       "574        575  B000G6RYNE  A3PJZ8TU8FDQ1K                  Jared Castle   \n",
       "1084      1085  B0030N5K1I  A19U4T4I7UZGNM                        3 dogs   \n",
       "1087      1088  B0030N5K1I  A19U4T4I7UZGNM                        3 dogs   \n",
       "2630      2631  B0016FY6H6  A2NLZ3M0OJV9NX                   Mark Bodzin   \n",
       "...        ...         ...             ...                           ...   \n",
       "568007  568008  B0030VJ8YU  A20P8VC55KPPCT                        FL Mom   \n",
       "568008  568009  B0030VJ8YU   ATIHDHZYNQ0EI  Kristen O'donnell \"twinsmom\"   \n",
       "568017  568018  B0030VJ8YU  A20P8VC55KPPCT                        FL Mom   \n",
       "568034  568035  B0030VJ8YU  A1S6HK2R1KUC5E                      data1701   \n",
       "568053  568054  B0030VJ8YU  A20P8VC55KPPCT                        FL Mom   \n",
       "\n",
       "        HelpfulnessNumerator  HelpfulnessDenominator  Score        Time  \\\n",
       "466                        0                       0      5  1231718400   \n",
       "574                        2                       2      5  1231718400   \n",
       "1084                       3                       3      1  1330992000   \n",
       "1087                       1                       1      1  1330992000   \n",
       "2630                       1                       1      2  1313107200   \n",
       "...                      ...                     ...    ...         ...   \n",
       "568007                     3                       3      5  1274486400   \n",
       "568008                     3                       3      5  1270425600   \n",
       "568017                     2                       2      5  1274486400   \n",
       "568034                     1                       1      5  1318291200   \n",
       "568053                     1                       1      5  1274486400   \n",
       "\n",
       "                                            Summary  \\\n",
       "466     One bite and you'll become a \"chippoisseur\"   \n",
       "574     One bite and you'll become a \"chippoisseur\"   \n",
       "1084                                          awful   \n",
       "1087                                          awful   \n",
       "2630                     Way too weak for my tastes   \n",
       "...                                             ...   \n",
       "568007                     These pouches are great!   \n",
       "568008                           Organic and Tasty!   \n",
       "568017                     These pouches are great!   \n",
       "568034                          Triplets love this!   \n",
       "568053                     These pouches are great!   \n",
       "\n",
       "                                                     Text  Sentiment  \n",
       "466     I'm addicted to salty and tangy flavors, so wh...          1  \n",
       "574     I'm addicted to salty and tangy flavors, so wh...          1  \n",
       "1084    This is not jerky, this is processed, hard lik...          0  \n",
       "1087    This is not jerky, this is processed, hard lik...          0  \n",
       "2630    What can i say, I love iced tea. I drink a lot...          0  \n",
       "...                                                   ...        ...  \n",
       "568007  These pouches are so easy and convenient. They...          1  \n",
       "568008  I have 12 month olds and no time to write a gr...          1  \n",
       "568017  These pouches are so easy and convenient. They...          1  \n",
       "568034  This is very smooth and easy to feed to my tri...          1  \n",
       "568053  These pouches are so easy and convenient.  The...          1  \n",
       "\n",
       "[2230 rows x 11 columns]"
      ]
     },
     "execution_count": 11,
     "metadata": {},
     "output_type": "execute_result"
    }
   ],
   "source": [
    "duplicate_df"
   ]
  },
  {
   "cell_type": "code",
   "execution_count": 12,
   "id": "a0269ef9",
   "metadata": {},
   "outputs": [
    {
     "data": {
      "text/html": [
       "<div>\n",
       "<style scoped>\n",
       "    .dataframe tbody tr th:only-of-type {\n",
       "        vertical-align: middle;\n",
       "    }\n",
       "\n",
       "    .dataframe tbody tr th {\n",
       "        vertical-align: top;\n",
       "    }\n",
       "\n",
       "    .dataframe thead th {\n",
       "        text-align: right;\n",
       "    }\n",
       "</style>\n",
       "<table border=\"1\" class=\"dataframe\">\n",
       "  <thead>\n",
       "    <tr style=\"text-align: right;\">\n",
       "      <th></th>\n",
       "      <th>Id</th>\n",
       "      <th>ProductId</th>\n",
       "      <th>UserId</th>\n",
       "      <th>ProfileName</th>\n",
       "      <th>HelpfulnessNumerator</th>\n",
       "      <th>HelpfulnessDenominator</th>\n",
       "      <th>Score</th>\n",
       "      <th>Time</th>\n",
       "      <th>Summary</th>\n",
       "      <th>Text</th>\n",
       "      <th>Sentiment</th>\n",
       "    </tr>\n",
       "  </thead>\n",
       "  <tbody>\n",
       "    <tr>\n",
       "      <th>3306</th>\n",
       "      <td>3307</td>\n",
       "      <td>B005K4Q1VI</td>\n",
       "      <td>A3OXHLG6DIBRW8</td>\n",
       "      <td>C. F. Hill \"CFH\"</td>\n",
       "      <td>24</td>\n",
       "      <td>25</td>\n",
       "      <td>5</td>\n",
       "      <td>1321401600</td>\n",
       "      <td>Really Good Hot Cocoa - Highly Recommended</td>\n",
       "      <td>These Grove Square Hot Cocoa flavors are by fa...</td>\n",
       "      <td>1</td>\n",
       "    </tr>\n",
       "    <tr>\n",
       "      <th>3416</th>\n",
       "      <td>3417</td>\n",
       "      <td>B005K4Q1VI</td>\n",
       "      <td>A3OXHLG6DIBRW8</td>\n",
       "      <td>C. F. Hill \"CFH\"</td>\n",
       "      <td>5</td>\n",
       "      <td>5</td>\n",
       "      <td>5</td>\n",
       "      <td>1321401600</td>\n",
       "      <td>Really Good Hot Cocoa - Highly Recommended</td>\n",
       "      <td>These Grove Square Hot Cocoa flavors are by fa...</td>\n",
       "      <td>1</td>\n",
       "    </tr>\n",
       "  </tbody>\n",
       "</table>\n",
       "</div>"
      ],
      "text/plain": [
       "        Id   ProductId          UserId       ProfileName  \\\n",
       "3306  3307  B005K4Q1VI  A3OXHLG6DIBRW8  C. F. Hill \"CFH\"   \n",
       "3416  3417  B005K4Q1VI  A3OXHLG6DIBRW8  C. F. Hill \"CFH\"   \n",
       "\n",
       "      HelpfulnessNumerator  HelpfulnessDenominator  Score        Time  \\\n",
       "3306                    24                      25      5  1321401600   \n",
       "3416                     5                       5      5  1321401600   \n",
       "\n",
       "                                         Summary  \\\n",
       "3306  Really Good Hot Cocoa - Highly Recommended   \n",
       "3416  Really Good Hot Cocoa - Highly Recommended   \n",
       "\n",
       "                                                   Text  Sentiment  \n",
       "3306  These Grove Square Hot Cocoa flavors are by fa...          1  \n",
       "3416  These Grove Square Hot Cocoa flavors are by fa...          1  "
      ]
     },
     "execution_count": 12,
     "metadata": {},
     "output_type": "execute_result"
    }
   ],
   "source": [
    "duplicate_df.loc[df.ProductId== 'B005K4Q1VI', :]"
   ]
  },
  {
   "cell_type": "markdown",
   "id": "6e65473d",
   "metadata": {},
   "source": [
    " **Data Cleaning**\n"
   ]
  },
  {
   "cell_type": "code",
   "execution_count": 13,
   "id": "cb81363f",
   "metadata": {},
   "outputs": [],
   "source": [
    "sorted_df=df.sort_values('ProductId', axis=0, ascending=True, inplace=False, kind='quicksort', na_position='last')"
   ]
  },
  {
   "cell_type": "code",
   "execution_count": 14,
   "id": "8a947a69",
   "metadata": {},
   "outputs": [
    {
     "data": {
      "text/plain": [
       "(393933, 11)"
      ]
     },
     "execution_count": 14,
     "metadata": {},
     "output_type": "execute_result"
    }
   ],
   "source": [
    "final=sorted_df.drop_duplicates(subset={\"UserId\",\"ProfileName\",\"Time\",\"Text\"}, keep='first', inplace=False)\n",
    "final.shape"
   ]
  },
  {
   "cell_type": "code",
   "execution_count": 15,
   "id": "4f49c66c",
   "metadata": {},
   "outputs": [
    {
     "data": {
      "text/plain": [
       "69.29901100176971"
      ]
     },
     "execution_count": 15,
     "metadata": {},
     "output_type": "execute_result"
    }
   ],
   "source": [
    "(final['Id'].size*1.0)/(df['Id'].size*1.0)*100"
   ]
  },
  {
   "cell_type": "code",
   "execution_count": 16,
   "id": "0ab1ead9",
   "metadata": {},
   "outputs": [
    {
     "data": {
      "text/html": [
       "<div>\n",
       "<style scoped>\n",
       "    .dataframe tbody tr th:only-of-type {\n",
       "        vertical-align: middle;\n",
       "    }\n",
       "\n",
       "    .dataframe tbody tr th {\n",
       "        vertical-align: top;\n",
       "    }\n",
       "\n",
       "    .dataframe thead th {\n",
       "        text-align: right;\n",
       "    }\n",
       "</style>\n",
       "<table border=\"1\" class=\"dataframe\">\n",
       "  <thead>\n",
       "    <tr style=\"text-align: right;\">\n",
       "      <th></th>\n",
       "      <th>Id</th>\n",
       "      <th>ProductId</th>\n",
       "      <th>UserId</th>\n",
       "      <th>ProfileName</th>\n",
       "      <th>HelpfulnessNumerator</th>\n",
       "      <th>HelpfulnessDenominator</th>\n",
       "      <th>Score</th>\n",
       "      <th>Time</th>\n",
       "      <th>Summary</th>\n",
       "      <th>Text</th>\n",
       "      <th>Sentiment</th>\n",
       "    </tr>\n",
       "  </thead>\n",
       "  <tbody>\n",
       "    <tr>\n",
       "      <th>64421</th>\n",
       "      <td>64422</td>\n",
       "      <td>B000MIDROQ</td>\n",
       "      <td>A161DK06JJMCYF</td>\n",
       "      <td>J. E. Stephens \"Jeanne\"</td>\n",
       "      <td>3</td>\n",
       "      <td>1</td>\n",
       "      <td>5</td>\n",
       "      <td>1224892800</td>\n",
       "      <td>Bought This for My Son at College</td>\n",
       "      <td>My son loves spaghetti so I didn't hesitate or...</td>\n",
       "      <td>1</td>\n",
       "    </tr>\n",
       "    <tr>\n",
       "      <th>44736</th>\n",
       "      <td>44737</td>\n",
       "      <td>B001EQ55RW</td>\n",
       "      <td>A2V0I904FH7ABY</td>\n",
       "      <td>Ram</td>\n",
       "      <td>3</td>\n",
       "      <td>2</td>\n",
       "      <td>4</td>\n",
       "      <td>1212883200</td>\n",
       "      <td>Pure cocoa taste with crunchy almonds inside</td>\n",
       "      <td>It was almost a 'love at first bite' - the per...</td>\n",
       "      <td>1</td>\n",
       "    </tr>\n",
       "  </tbody>\n",
       "</table>\n",
       "</div>"
      ],
      "text/plain": [
       "          Id   ProductId          UserId              ProfileName  \\\n",
       "64421  64422  B000MIDROQ  A161DK06JJMCYF  J. E. Stephens \"Jeanne\"   \n",
       "44736  44737  B001EQ55RW  A2V0I904FH7ABY                      Ram   \n",
       "\n",
       "       HelpfulnessNumerator  HelpfulnessDenominator  Score        Time  \\\n",
       "64421                     3                       1      5  1224892800   \n",
       "44736                     3                       2      4  1212883200   \n",
       "\n",
       "                                            Summary  \\\n",
       "64421             Bought This for My Son at College   \n",
       "44736  Pure cocoa taste with crunchy almonds inside   \n",
       "\n",
       "                                                    Text  Sentiment  \n",
       "64421  My son loves spaghetti so I didn't hesitate or...          1  \n",
       "44736  It was almost a 'love at first bite' - the per...          1  "
      ]
     },
     "execution_count": 16,
     "metadata": {},
     "output_type": "execute_result"
    }
   ],
   "source": [
    "final[final['HelpfulnessNumerator'] > final['HelpfulnessDenominator']]"
   ]
  },
  {
   "cell_type": "code",
   "execution_count": 17,
   "id": "8945cba7",
   "metadata": {},
   "outputs": [
    {
     "data": {
      "text/plain": [
       "(393931, 12)"
      ]
     },
     "execution_count": 17,
     "metadata": {},
     "output_type": "execute_result"
    }
   ],
   "source": [
    "final = final[final['HelpfulnessNumerator'] <= final['HelpfulnessDenominator']]\n",
    "final.reset_index(inplace=True)\n",
    "final.shape"
   ]
  },
  {
   "cell_type": "markdown",
   "id": "968d07d7",
   "metadata": {},
   "source": [
    "**Preprocessing**"
   ]
  },
  {
   "cell_type": "code",
   "execution_count": 18,
   "id": "5184d90e",
   "metadata": {},
   "outputs": [],
   "source": [
    "import re\n",
    "\n",
    "import string\n",
    "from nltk.corpus import stopwords\n",
    "from nltk.stem import PorterStemmer\n",
    "from nltk.stem.wordnet import WordNetLemmatizer\n",
    "\n",
    "from gensim.models import Word2Vec\n",
    "from gensim.models import KeyedVectors\n",
    "import pickle\n",
    "\n",
    "from tqdm import tqdm\n",
    "import os\n",
    "\n",
    "from bs4 import BeautifulSoup"
   ]
  },
  {
   "cell_type": "code",
   "execution_count": 19,
   "id": "bc270714",
   "metadata": {},
   "outputs": [],
   "source": [
    "\n",
    "import re\n",
    "\n",
    "def decontracted(phrase):\n",
    "    \n",
    "    \n",
    "    phrase = re.sub(r\"won't\", \"will not\", phrase)\n",
    "    phrase = re.sub(r\"can\\'t\", \"can not\", phrase)\n",
    "\n",
    "   \n",
    "    phrase = re.sub(r\"n\\'t\", \" not\", phrase)\n",
    "    phrase = re.sub(r\"\\'re\", \" are\", phrase)\n",
    "    phrase = re.sub(r\"\\'s\", \" is\", phrase)\n",
    "    phrase = re.sub(r\"\\'d\", \" would\", phrase)\n",
    "    phrase = re.sub(r\"\\'ll\", \" will\", phrase)\n",
    "    phrase = re.sub(r\"\\'t\", \" not\", phrase)\n",
    "    phrase = re.sub(r\"\\'ve\", \" have\", phrase)\n",
    "    phrase = re.sub(r\"\\'m\", \" am\", phrase)\n",
    "    return phrase"
   ]
  },
  {
   "cell_type": "code",
   "execution_count": 20,
   "id": "942c9b12",
   "metadata": {},
   "outputs": [],
   "source": [
    "stopwords= set(['br', 'the', 'i', 'me', 'my', 'myself', 'we', 'our', 'ours', 'ourselves', 'you', \"you're\", \"you've\",\\\n",
    "            \"you'll\", \"you'd\", 'your', 'yours', 'yourself', 'yourselves', 'he', 'him', 'his', 'himself', \\\n",
    "            'she', \"she's\", 'her', 'hers', 'herself', 'it', \"it's\", 'its', 'itself', 'they', 'them', 'their',\\\n",
    "            'theirs', 'themselves', 'what', 'which', 'who', 'whom', 'this', 'that', \"that'll\", 'these', 'those', \\\n",
    "            'am', 'is', 'are', 'was', 'were', 'be', 'been', 'being', 'have', 'has', 'had', 'having', 'do', 'does', \\\n",
    "            'did', 'doing', 'a', 'an', 'the', 'and', 'but', 'if', 'or', 'because', 'as', 'until', 'while', 'of', \\\n",
    "            'at', 'by', 'for', 'with', 'about', 'against', 'between', 'into', 'through', 'during', 'before', 'after',\\\n",
    "            'above', 'below', 'to', 'from', 'up', 'down', 'in', 'out', 'on', 'off', 'over', 'under', 'again', 'further',\\\n",
    "            'then', 'once', 'here', 'there', 'when', 'where', 'why', 'how', 'all', 'any', 'both', 'each', 'few', 'more',\\\n",
    "            'most', 'other', 'some', 'such', 'only', 'own', 'same', 'so', 'than', 'too', 'very', \\\n",
    "            's', 't', 'can', 'will', 'just', 'don', \"don't\", 'should', \"should've\", 'now', 'd', 'll', 'm', 'o', 're', \\\n",
    "            've', 'y', 'ain', 'aren', \"aren't\", 'couldn', \"couldn't\", 'didn', \"didn't\", 'doesn', \"doesn't\", 'hadn',\\\n",
    "            \"hadn't\", 'hasn', \"hasn't\", 'haven', \"haven't\", 'isn', \"isn't\", 'ma', 'mightn', \"mightn't\", 'mustn',\\\n",
    "            \"mustn't\", 'needn', \"needn't\", 'shan', \"shan't\", 'shouldn', \"shouldn't\", 'wasn', \"wasn't\", 'weren', \"weren't\", \\\n",
    "            'won', \"won't\", 'wouldn', \"wouldn't\"])"
   ]
  },
  {
   "cell_type": "code",
   "execution_count": 52,
   "id": "2d1cf2b6",
   "metadata": {},
   "outputs": [
    {
     "name": "stderr",
     "output_type": "stream",
     "text": [
      "100%|████████████████████████████████████████████████████████████████████████| 393931/393931 [03:09<00:00, 2084.08it/s]\n"
     ]
    }
   ],
   "source": [
    "\n",
    "from tqdm import tqdm\n",
    "preprocessed_reviews = []\n",
    "\n",
    "for sentance in tqdm(final['Text'].values):\n",
    "    sentance = re.sub(r\"http\\S+\", \"\", sentance)\n",
    "    sentance = BeautifulSoup(sentance, 'lxml').get_text()\n",
    "    sentance = decontracted(sentance)\n",
    "    sentance = re.sub(\"\\S*\\d\\S*\", \"\", sentance).strip()\n",
    "    sentance = re.sub('[^A-Za-z]+', ' ', sentance)\n",
    "    \n",
    "    sentance = ' '.join(e.lower() for e in sentance.split() if e.lower() not in stopwords)\n",
    "    preprocessed_reviews.append(sentance.strip())"
   ]
  },
  {
   "cell_type": "code",
   "execution_count": 23,
   "id": "a9fed131",
   "metadata": {},
   "outputs": [
    {
     "data": {
      "text/plain": [
       "'grew reading sendak books watching really rosie movie incorporates love son loves however miss hard cover version paperbacks seem kind flimsy takes two hands keep pages open'"
      ]
     },
     "execution_count": 23,
     "metadata": {},
     "output_type": "execute_result"
    }
   ],
   "source": [
    "preprocessed_reviews[2]"
   ]
  },
  {
   "cell_type": "code",
   "execution_count": 24,
   "id": "dabc4452",
   "metadata": {},
   "outputs": [
    {
     "data": {
      "text/plain": [
       "'catnip cute usable size larger expected catnip came clear plastic bag tied opening inside good amount cats went crazy'"
      ]
     },
     "execution_count": 24,
     "metadata": {},
     "output_type": "execute_result"
    }
   ],
   "source": [
    "preprocessed_reviews[15000]"
   ]
  },
  {
   "cell_type": "code",
   "execution_count": 25,
   "id": "e6a189f5",
   "metadata": {},
   "outputs": [
    {
     "data": {
      "text/plain": [
       "393931"
      ]
     },
     "execution_count": 25,
     "metadata": {},
     "output_type": "execute_result"
    }
   ],
   "source": [
    "len(preprocessed_reviews)"
   ]
  },
  {
   "cell_type": "markdown",
   "id": "60a62ed7",
   "metadata": {},
   "source": [
    "**Featurization**"
   ]
  },
  {
   "cell_type": "code",
   "execution_count": 26,
   "id": "5e6ca8d2",
   "metadata": {},
   "outputs": [
    {
     "data": {
      "text/html": [
       "<div>\n",
       "<style scoped>\n",
       "    .dataframe tbody tr th:only-of-type {\n",
       "        vertical-align: middle;\n",
       "    }\n",
       "\n",
       "    .dataframe tbody tr th {\n",
       "        vertical-align: top;\n",
       "    }\n",
       "\n",
       "    .dataframe thead th {\n",
       "        text-align: right;\n",
       "    }\n",
       "</style>\n",
       "<table border=\"1\" class=\"dataframe\">\n",
       "  <thead>\n",
       "    <tr style=\"text-align: right;\">\n",
       "      <th></th>\n",
       "      <th>index</th>\n",
       "      <th>Id</th>\n",
       "      <th>ProductId</th>\n",
       "      <th>UserId</th>\n",
       "      <th>ProfileName</th>\n",
       "      <th>HelpfulnessNumerator</th>\n",
       "      <th>HelpfulnessDenominator</th>\n",
       "      <th>Score</th>\n",
       "      <th>Time</th>\n",
       "      <th>Summary</th>\n",
       "      <th>Text</th>\n",
       "      <th>Sentiment</th>\n",
       "    </tr>\n",
       "  </thead>\n",
       "  <tbody>\n",
       "    <tr>\n",
       "      <th>71077</th>\n",
       "      <td>436402</td>\n",
       "      <td>436403</td>\n",
       "      <td>B000FFLTDM</td>\n",
       "      <td>A3MOFX0JORSBIS</td>\n",
       "      <td>Elaine C. Sharpe</td>\n",
       "      <td>0</td>\n",
       "      <td>0</td>\n",
       "      <td>5</td>\n",
       "      <td>1267920000</td>\n",
       "      <td>Love it!</td>\n",
       "      <td>McDougall's soups rock! The Miso Ramen is my f...</td>\n",
       "      <td>1</td>\n",
       "    </tr>\n",
       "    <tr>\n",
       "      <th>119839</th>\n",
       "      <td>127072</td>\n",
       "      <td>127073</td>\n",
       "      <td>B000P6MSOU</td>\n",
       "      <td>A2XOLHKX8FTFYL</td>\n",
       "      <td>Elliott C. Musial</td>\n",
       "      <td>8</td>\n",
       "      <td>12</td>\n",
       "      <td>4</td>\n",
       "      <td>1251158400</td>\n",
       "      <td>Product variety and allocation</td>\n",
       "      <td>These 45 count packages are inefficient in tha...</td>\n",
       "      <td>1</td>\n",
       "    </tr>\n",
       "    <tr>\n",
       "      <th>237086</th>\n",
       "      <td>361721</td>\n",
       "      <td>361722</td>\n",
       "      <td>B001X94YNG</td>\n",
       "      <td>A3RBRTD5LFXW5G</td>\n",
       "      <td>CookingGal</td>\n",
       "      <td>0</td>\n",
       "      <td>0</td>\n",
       "      <td>1</td>\n",
       "      <td>1292976000</td>\n",
       "      <td>bitter taste</td>\n",
       "      <td>I am not Chinese, but have eaten my share of C...</td>\n",
       "      <td>0</td>\n",
       "    </tr>\n",
       "    <tr>\n",
       "      <th>317746</th>\n",
       "      <td>159276</td>\n",
       "      <td>159277</td>\n",
       "      <td>B00437I4VI</td>\n",
       "      <td>A3M67ULEJD8VDR</td>\n",
       "      <td>Momto5</td>\n",
       "      <td>3</td>\n",
       "      <td>3</td>\n",
       "      <td>5</td>\n",
       "      <td>1342137600</td>\n",
       "      <td>Shhhh....don't tell the kids I sneak their fru...</td>\n",
       "      <td>We love these! So much so we are on our 3rd or...</td>\n",
       "      <td>1</td>\n",
       "    </tr>\n",
       "    <tr>\n",
       "      <th>177292</th>\n",
       "      <td>124589</td>\n",
       "      <td>124590</td>\n",
       "      <td>B001E55XOI</td>\n",
       "      <td>AUFME5EY4OBRB</td>\n",
       "      <td>Patricia M. Kolski</td>\n",
       "      <td>1</td>\n",
       "      <td>1</td>\n",
       "      <td>5</td>\n",
       "      <td>1265068800</td>\n",
       "      <td>what do you mean?</td>\n",
       "      <td>Could not find the Crystal Lite decaf iced tea...</td>\n",
       "      <td>1</td>\n",
       "    </tr>\n",
       "  </tbody>\n",
       "</table>\n",
       "</div>"
      ],
      "text/plain": [
       "         index      Id   ProductId          UserId         ProfileName  \\\n",
       "71077   436402  436403  B000FFLTDM  A3MOFX0JORSBIS    Elaine C. Sharpe   \n",
       "119839  127072  127073  B000P6MSOU  A2XOLHKX8FTFYL   Elliott C. Musial   \n",
       "237086  361721  361722  B001X94YNG  A3RBRTD5LFXW5G          CookingGal   \n",
       "317746  159276  159277  B00437I4VI  A3M67ULEJD8VDR              Momto5   \n",
       "177292  124589  124590  B001E55XOI   AUFME5EY4OBRB  Patricia M. Kolski   \n",
       "\n",
       "        HelpfulnessNumerator  HelpfulnessDenominator  Score        Time  \\\n",
       "71077                      0                       0      5  1267920000   \n",
       "119839                     8                      12      4  1251158400   \n",
       "237086                     0                       0      1  1292976000   \n",
       "317746                     3                       3      5  1342137600   \n",
       "177292                     1                       1      5  1265068800   \n",
       "\n",
       "                                                  Summary  \\\n",
       "71077                                            Love it!   \n",
       "119839                     Product variety and allocation   \n",
       "237086                                       bitter taste   \n",
       "317746  Shhhh....don't tell the kids I sneak their fru...   \n",
       "177292                                  what do you mean?   \n",
       "\n",
       "                                                     Text  Sentiment  \n",
       "71077   McDougall's soups rock! The Miso Ramen is my f...          1  \n",
       "119839  These 45 count packages are inefficient in tha...          1  \n",
       "237086  I am not Chinese, but have eaten my share of C...          0  \n",
       "317746  We love these! So much so we are on our 3rd or...          1  \n",
       "177292  Could not find the Crystal Lite decaf iced tea...          1  "
      ]
     },
     "execution_count": 26,
     "metadata": {},
     "output_type": "execute_result"
    }
   ],
   "source": [
    "sample_df = final.sample(n = 5000)\n",
    "sample_df.head()"
   ]
  },
  {
   "cell_type": "code",
   "execution_count": 27,
   "id": "67e65803",
   "metadata": {},
   "outputs": [],
   "source": [
    "sample_df.drop(columns = ['Id', 'ProductId', 'UserId','ProfileName', 'Time', 'Summary', 'Score'], inplace=True)"
   ]
  },
  {
   "cell_type": "code",
   "execution_count": 28,
   "id": "18c23c24",
   "metadata": {},
   "outputs": [
    {
     "data": {
      "text/html": [
       "<div>\n",
       "<style scoped>\n",
       "    .dataframe tbody tr th:only-of-type {\n",
       "        vertical-align: middle;\n",
       "    }\n",
       "\n",
       "    .dataframe tbody tr th {\n",
       "        vertical-align: top;\n",
       "    }\n",
       "\n",
       "    .dataframe thead th {\n",
       "        text-align: right;\n",
       "    }\n",
       "</style>\n",
       "<table border=\"1\" class=\"dataframe\">\n",
       "  <thead>\n",
       "    <tr style=\"text-align: right;\">\n",
       "      <th></th>\n",
       "      <th>index</th>\n",
       "      <th>HelpfulnessNumerator</th>\n",
       "      <th>HelpfulnessDenominator</th>\n",
       "      <th>Text</th>\n",
       "      <th>Sentiment</th>\n",
       "    </tr>\n",
       "  </thead>\n",
       "  <tbody>\n",
       "    <tr>\n",
       "      <th>71077</th>\n",
       "      <td>436402</td>\n",
       "      <td>0</td>\n",
       "      <td>0</td>\n",
       "      <td>McDougall's soups rock! The Miso Ramen is my f...</td>\n",
       "      <td>1</td>\n",
       "    </tr>\n",
       "    <tr>\n",
       "      <th>119839</th>\n",
       "      <td>127072</td>\n",
       "      <td>8</td>\n",
       "      <td>12</td>\n",
       "      <td>These 45 count packages are inefficient in tha...</td>\n",
       "      <td>1</td>\n",
       "    </tr>\n",
       "  </tbody>\n",
       "</table>\n",
       "</div>"
      ],
      "text/plain": [
       "         index  HelpfulnessNumerator  HelpfulnessDenominator  \\\n",
       "71077   436402                     0                       0   \n",
       "119839  127072                     8                      12   \n",
       "\n",
       "                                                     Text  Sentiment  \n",
       "71077   McDougall's soups rock! The Miso Ramen is my f...          1  \n",
       "119839  These 45 count packages are inefficient in tha...          1  "
      ]
     },
     "execution_count": 28,
     "metadata": {},
     "output_type": "execute_result"
    }
   ],
   "source": [
    "sample_df.head(2)"
   ]
  },
  {
   "cell_type": "code",
   "execution_count": 29,
   "id": "9a007dde",
   "metadata": {},
   "outputs": [
    {
     "data": {
      "text/plain": [
       "array([ 71077, 119839, 237086, ...,  69031, 207527, 121503], dtype=int64)"
      ]
     },
     "execution_count": 29,
     "metadata": {},
     "output_type": "execute_result"
    }
   ],
   "source": [
    "sample_df.index.values"
   ]
  },
  {
   "cell_type": "code",
   "execution_count": 31,
   "id": "658b81d1",
   "metadata": {},
   "outputs": [
    {
     "data": {
      "text/plain": [
       "'mcdougall soups rock miso ramen favorite every flavor tried really good close second black bean lime soups not replace homemade course office road snack really hit spot'"
      ]
     },
     "execution_count": 31,
     "metadata": {},
     "output_type": "execute_result"
    }
   ],
   "source": [
    "sample_reviews = [ preprocessed_reviews[i] for i in sample_df.index.values]\n",
    "sample_reviews[0]"
   ]
  },
  {
   "cell_type": "code",
   "execution_count": 32,
   "id": "0e8bdde9",
   "metadata": {},
   "outputs": [
    {
     "data": {
      "text/html": [
       "<div>\n",
       "<style scoped>\n",
       "    .dataframe tbody tr th:only-of-type {\n",
       "        vertical-align: middle;\n",
       "    }\n",
       "\n",
       "    .dataframe tbody tr th {\n",
       "        vertical-align: top;\n",
       "    }\n",
       "\n",
       "    .dataframe thead th {\n",
       "        text-align: right;\n",
       "    }\n",
       "</style>\n",
       "<table border=\"1\" class=\"dataframe\">\n",
       "  <thead>\n",
       "    <tr style=\"text-align: right;\">\n",
       "      <th></th>\n",
       "      <th>index</th>\n",
       "      <th>HelpfulnessNumerator</th>\n",
       "      <th>HelpfulnessDenominator</th>\n",
       "      <th>Text</th>\n",
       "      <th>Sentiment</th>\n",
       "      <th>preprocessed</th>\n",
       "    </tr>\n",
       "  </thead>\n",
       "  <tbody>\n",
       "    <tr>\n",
       "      <th>71077</th>\n",
       "      <td>436402</td>\n",
       "      <td>0</td>\n",
       "      <td>0</td>\n",
       "      <td>McDougall's soups rock! The Miso Ramen is my f...</td>\n",
       "      <td>1</td>\n",
       "      <td>mcdougall soups rock miso ramen favorite every...</td>\n",
       "    </tr>\n",
       "    <tr>\n",
       "      <th>119839</th>\n",
       "      <td>127072</td>\n",
       "      <td>8</td>\n",
       "      <td>12</td>\n",
       "      <td>These 45 count packages are inefficient in tha...</td>\n",
       "      <td>1</td>\n",
       "      <td>count packages inefficient far many crackers c...</td>\n",
       "    </tr>\n",
       "    <tr>\n",
       "      <th>237086</th>\n",
       "      <td>361721</td>\n",
       "      <td>0</td>\n",
       "      <td>0</td>\n",
       "      <td>I am not Chinese, but have eaten my share of C...</td>\n",
       "      <td>0</td>\n",
       "      <td>not chinese eaten share chinese authentic szec...</td>\n",
       "    </tr>\n",
       "    <tr>\n",
       "      <th>317746</th>\n",
       "      <td>159276</td>\n",
       "      <td>3</td>\n",
       "      <td>3</td>\n",
       "      <td>We love these! So much so we are on our 3rd or...</td>\n",
       "      <td>1</td>\n",
       "      <td>love much order months kids neighborhood hot s...</td>\n",
       "    </tr>\n",
       "    <tr>\n",
       "      <th>177292</th>\n",
       "      <td>124589</td>\n",
       "      <td>1</td>\n",
       "      <td>1</td>\n",
       "      <td>Could not find the Crystal Lite decaf iced tea...</td>\n",
       "      <td>1</td>\n",
       "      <td>could not find crystal lite decaf iced tea gro...</td>\n",
       "    </tr>\n",
       "  </tbody>\n",
       "</table>\n",
       "</div>"
      ],
      "text/plain": [
       "         index  HelpfulnessNumerator  HelpfulnessDenominator  \\\n",
       "71077   436402                     0                       0   \n",
       "119839  127072                     8                      12   \n",
       "237086  361721                     0                       0   \n",
       "317746  159276                     3                       3   \n",
       "177292  124589                     1                       1   \n",
       "\n",
       "                                                     Text  Sentiment  \\\n",
       "71077   McDougall's soups rock! The Miso Ramen is my f...          1   \n",
       "119839  These 45 count packages are inefficient in tha...          1   \n",
       "237086  I am not Chinese, but have eaten my share of C...          0   \n",
       "317746  We love these! So much so we are on our 3rd or...          1   \n",
       "177292  Could not find the Crystal Lite decaf iced tea...          1   \n",
       "\n",
       "                                             preprocessed  \n",
       "71077   mcdougall soups rock miso ramen favorite every...  \n",
       "119839  count packages inefficient far many crackers c...  \n",
       "237086  not chinese eaten share chinese authentic szec...  \n",
       "317746  love much order months kids neighborhood hot s...  \n",
       "177292  could not find crystal lite decaf iced tea gro...  "
      ]
     },
     "execution_count": 32,
     "metadata": {},
     "output_type": "execute_result"
    }
   ],
   "source": [
    "sample_df['preprocessed'] = sample_reviews\n",
    "sample_df.head()"
   ]
  },
  {
   "cell_type": "code",
   "execution_count": 33,
   "id": "ba4b5e8c",
   "metadata": {},
   "outputs": [],
   "source": [
    "sample_df.drop(columns = ['Text', 'index'], inplace=True)"
   ]
  },
  {
   "cell_type": "code",
   "execution_count": 34,
   "id": "0460975f",
   "metadata": {},
   "outputs": [
    {
     "data": {
      "text/html": [
       "<div>\n",
       "<style scoped>\n",
       "    .dataframe tbody tr th:only-of-type {\n",
       "        vertical-align: middle;\n",
       "    }\n",
       "\n",
       "    .dataframe tbody tr th {\n",
       "        vertical-align: top;\n",
       "    }\n",
       "\n",
       "    .dataframe thead th {\n",
       "        text-align: right;\n",
       "    }\n",
       "</style>\n",
       "<table border=\"1\" class=\"dataframe\">\n",
       "  <thead>\n",
       "    <tr style=\"text-align: right;\">\n",
       "      <th></th>\n",
       "      <th>HelpfulnessNumerator</th>\n",
       "      <th>HelpfulnessDenominator</th>\n",
       "      <th>Sentiment</th>\n",
       "      <th>preprocessed</th>\n",
       "    </tr>\n",
       "  </thead>\n",
       "  <tbody>\n",
       "    <tr>\n",
       "      <th>71077</th>\n",
       "      <td>0</td>\n",
       "      <td>0</td>\n",
       "      <td>1</td>\n",
       "      <td>mcdougall soups rock miso ramen favorite every...</td>\n",
       "    </tr>\n",
       "    <tr>\n",
       "      <th>119839</th>\n",
       "      <td>8</td>\n",
       "      <td>12</td>\n",
       "      <td>1</td>\n",
       "      <td>count packages inefficient far many crackers c...</td>\n",
       "    </tr>\n",
       "    <tr>\n",
       "      <th>237086</th>\n",
       "      <td>0</td>\n",
       "      <td>0</td>\n",
       "      <td>0</td>\n",
       "      <td>not chinese eaten share chinese authentic szec...</td>\n",
       "    </tr>\n",
       "  </tbody>\n",
       "</table>\n",
       "</div>"
      ],
      "text/plain": [
       "        HelpfulnessNumerator  HelpfulnessDenominator  Sentiment  \\\n",
       "71077                      0                       0          1   \n",
       "119839                     8                      12          1   \n",
       "237086                     0                       0          0   \n",
       "\n",
       "                                             preprocessed  \n",
       "71077   mcdougall soups rock miso ramen favorite every...  \n",
       "119839  count packages inefficient far many crackers c...  \n",
       "237086  not chinese eaten share chinese authentic szec...  "
      ]
     },
     "execution_count": 34,
     "metadata": {},
     "output_type": "execute_result"
    }
   ],
   "source": [
    "sample_df.head(3)"
   ]
  },
  {
   "cell_type": "code",
   "execution_count": 35,
   "id": "d719a241",
   "metadata": {},
   "outputs": [],
   "source": [
    "from sklearn.model_selection import train_test_split"
   ]
  },
  {
   "cell_type": "code",
   "execution_count": 37,
   "id": "c525523e",
   "metadata": {},
   "outputs": [
    {
     "name": "stdout",
     "output_type": "stream",
     "text": [
      "(5000, 3)\n",
      "(5000,)\n"
     ]
    }
   ],
   "source": [
    "y = sample_df['Sentiment'].values \n",
    "X = sample_df.drop(columns =['Sentiment'])\n",
    "\n",
    "print(X.shape)\n",
    "print(y.shape)"
   ]
  },
  {
   "cell_type": "code",
   "execution_count": 38,
   "id": "ab8b1d07",
   "metadata": {},
   "outputs": [
    {
     "data": {
      "text/plain": [
       "1    4259\n",
       "0     741\n",
       "Name: Sentiment, dtype: int64"
      ]
     },
     "execution_count": 38,
     "metadata": {},
     "output_type": "execute_result"
    }
   ],
   "source": [
    "sample_df['Sentiment'].value_counts()"
   ]
  },
  {
   "cell_type": "code",
   "execution_count": 39,
   "id": "8e0bb8c1",
   "metadata": {},
   "outputs": [
    {
     "name": "stdout",
     "output_type": "stream",
     "text": [
      "(4000, 3)\n",
      "(4000,)\n",
      "(1000, 3)\n",
      "(1000,)\n"
     ]
    }
   ],
   "source": [
    "train_X, test_X, train_y, test_y = train_test_split(X, y, test_size = 0.2, random_state = 24)\n",
    "\n",
    "print(train_X.shape)\n",
    "print(train_y.shape)\n",
    "print(test_X.shape)\n",
    "print(test_y.shape)"
   ]
  },
  {
   "cell_type": "markdown",
   "id": "cbb324c4",
   "metadata": {},
   "source": [
    "**BOW**"
   ]
  },
  {
   "cell_type": "code",
   "execution_count": 54,
   "id": "92cf4c6c",
   "metadata": {},
   "outputs": [
    {
     "name": "stdout",
     "output_type": "stream",
     "text": [
      "some feature names  ['aaaaa', 'aaaaallll', 'aaah', 'aargh', 'ab', 'abandoned', 'abba', 'abby', 'abid', 'abilities']\n",
      "==================================================\n"
     ]
    }
   ],
   "source": [
    "from sklearn.feature_extraction.text import CountVectorizer\n",
    "\n",
    "count_vect = CountVectorizer()\n",
    "count_vect.fit(train_X['preprocessed'])\n",
    "\n",
    "print(\"some feature names \", count_vect.get_feature_names()[:10])\n",
    "print('='*50)"
   ]
  },
  {
   "cell_type": "code",
   "execution_count": 41,
   "id": "ded7bc1d",
   "metadata": {},
   "outputs": [],
   "source": [
    "final_vectors = count_vect.transform(train_X['preprocessed'])"
   ]
  },
  {
   "cell_type": "code",
   "execution_count": 42,
   "id": "940a40cb",
   "metadata": {},
   "outputs": [
    {
     "data": {
      "text/plain": [
       "(4000, 13490)"
      ]
     },
     "execution_count": 42,
     "metadata": {},
     "output_type": "execute_result"
    }
   ],
   "source": [
    "final_vectors.shape"
   ]
  },
  {
   "cell_type": "code",
   "execution_count": 43,
   "id": "fdd4ad41",
   "metadata": {},
   "outputs": [
    {
     "data": {
      "text/plain": [
       "(4000, 13492)"
      ]
     },
     "execution_count": 43,
     "metadata": {},
     "output_type": "execute_result"
    }
   ],
   "source": [
    "num_feats = train_X[['HelpfulnessNumerator' ,\t'HelpfulnessDenominator']].values\n",
    "\n",
    "from scipy import sparse\n",
    "\n",
    "training_df = sparse.hstack(( num_feats, final_vectors))\n",
    "\n",
    "training_df.shape"
   ]
  },
  {
   "cell_type": "code",
   "execution_count": 44,
   "id": "1f2e07d4",
   "metadata": {},
   "outputs": [],
   "source": [
    "from sklearn.linear_model import LogisticRegression"
   ]
  },
  {
   "cell_type": "code",
   "execution_count": 45,
   "id": "4b9184d2",
   "metadata": {},
   "outputs": [
    {
     "data": {
      "text/html": [
       "<style>#sk-container-id-1 {color: black;background-color: white;}#sk-container-id-1 pre{padding: 0;}#sk-container-id-1 div.sk-toggleable {background-color: white;}#sk-container-id-1 label.sk-toggleable__label {cursor: pointer;display: block;width: 100%;margin-bottom: 0;padding: 0.3em;box-sizing: border-box;text-align: center;}#sk-container-id-1 label.sk-toggleable__label-arrow:before {content: \"▸\";float: left;margin-right: 0.25em;color: #696969;}#sk-container-id-1 label.sk-toggleable__label-arrow:hover:before {color: black;}#sk-container-id-1 div.sk-estimator:hover label.sk-toggleable__label-arrow:before {color: black;}#sk-container-id-1 div.sk-toggleable__content {max-height: 0;max-width: 0;overflow: hidden;text-align: left;background-color: #f0f8ff;}#sk-container-id-1 div.sk-toggleable__content pre {margin: 0.2em;color: black;border-radius: 0.25em;background-color: #f0f8ff;}#sk-container-id-1 input.sk-toggleable__control:checked~div.sk-toggleable__content {max-height: 200px;max-width: 100%;overflow: auto;}#sk-container-id-1 input.sk-toggleable__control:checked~label.sk-toggleable__label-arrow:before {content: \"▾\";}#sk-container-id-1 div.sk-estimator input.sk-toggleable__control:checked~label.sk-toggleable__label {background-color: #d4ebff;}#sk-container-id-1 div.sk-label input.sk-toggleable__control:checked~label.sk-toggleable__label {background-color: #d4ebff;}#sk-container-id-1 input.sk-hidden--visually {border: 0;clip: rect(1px 1px 1px 1px);clip: rect(1px, 1px, 1px, 1px);height: 1px;margin: -1px;overflow: hidden;padding: 0;position: absolute;width: 1px;}#sk-container-id-1 div.sk-estimator {font-family: monospace;background-color: #f0f8ff;border: 1px dotted black;border-radius: 0.25em;box-sizing: border-box;margin-bottom: 0.5em;}#sk-container-id-1 div.sk-estimator:hover {background-color: #d4ebff;}#sk-container-id-1 div.sk-parallel-item::after {content: \"\";width: 100%;border-bottom: 1px solid gray;flex-grow: 1;}#sk-container-id-1 div.sk-label:hover label.sk-toggleable__label {background-color: #d4ebff;}#sk-container-id-1 div.sk-serial::before {content: \"\";position: absolute;border-left: 1px solid gray;box-sizing: border-box;top: 0;bottom: 0;left: 50%;z-index: 0;}#sk-container-id-1 div.sk-serial {display: flex;flex-direction: column;align-items: center;background-color: white;padding-right: 0.2em;padding-left: 0.2em;position: relative;}#sk-container-id-1 div.sk-item {position: relative;z-index: 1;}#sk-container-id-1 div.sk-parallel {display: flex;align-items: stretch;justify-content: center;background-color: white;position: relative;}#sk-container-id-1 div.sk-item::before, #sk-container-id-1 div.sk-parallel-item::before {content: \"\";position: absolute;border-left: 1px solid gray;box-sizing: border-box;top: 0;bottom: 0;left: 50%;z-index: -1;}#sk-container-id-1 div.sk-parallel-item {display: flex;flex-direction: column;z-index: 1;position: relative;background-color: white;}#sk-container-id-1 div.sk-parallel-item:first-child::after {align-self: flex-end;width: 50%;}#sk-container-id-1 div.sk-parallel-item:last-child::after {align-self: flex-start;width: 50%;}#sk-container-id-1 div.sk-parallel-item:only-child::after {width: 0;}#sk-container-id-1 div.sk-dashed-wrapped {border: 1px dashed gray;margin: 0 0.4em 0.5em 0.4em;box-sizing: border-box;padding-bottom: 0.4em;background-color: white;}#sk-container-id-1 div.sk-label label {font-family: monospace;font-weight: bold;display: inline-block;line-height: 1.2em;}#sk-container-id-1 div.sk-label-container {text-align: center;}#sk-container-id-1 div.sk-container {/* jupyter's `normalize.less` sets `[hidden] { display: none; }` but bootstrap.min.css set `[hidden] { display: none !important; }` so we also need the `!important` here to be able to override the default hidden behavior on the sphinx rendered scikit-learn.org. See: https://github.com/scikit-learn/scikit-learn/issues/21755 */display: inline-block !important;position: relative;}#sk-container-id-1 div.sk-text-repr-fallback {display: none;}</style><div id=\"sk-container-id-1\" class=\"sk-top-container\"><div class=\"sk-text-repr-fallback\"><pre>LogisticRegression(max_iter=15000)</pre><b>In a Jupyter environment, please rerun this cell to show the HTML representation or trust the notebook. <br />On GitHub, the HTML representation is unable to render, please try loading this page with nbviewer.org.</b></div><div class=\"sk-container\" hidden><div class=\"sk-item\"><div class=\"sk-estimator sk-toggleable\"><input class=\"sk-toggleable__control sk-hidden--visually\" id=\"sk-estimator-id-1\" type=\"checkbox\" checked><label for=\"sk-estimator-id-1\" class=\"sk-toggleable__label sk-toggleable__label-arrow\">LogisticRegression</label><div class=\"sk-toggleable__content\"><pre>LogisticRegression(max_iter=15000)</pre></div></div></div></div></div>"
      ],
      "text/plain": [
       "LogisticRegression(max_iter=15000)"
      ]
     },
     "execution_count": 45,
     "metadata": {},
     "output_type": "execute_result"
    }
   ],
   "source": [
    "model = LogisticRegression(max_iter = 15000)\n",
    "\n",
    "model.fit(training_df, train_y)"
   ]
  },
  {
   "cell_type": "code",
   "execution_count": 46,
   "id": "ec2d535b",
   "metadata": {},
   "outputs": [
    {
     "data": {
      "text/plain": [
       "(1000, 13490)"
      ]
     },
     "execution_count": 46,
     "metadata": {},
     "output_type": "execute_result"
    }
   ],
   "source": [
    "\n",
    "final_test_vectors = count_vect.transform(test_X['preprocessed'].values)\n",
    "final_test_vectors.shape"
   ]
  },
  {
   "cell_type": "code",
   "execution_count": 47,
   "id": "1798228b",
   "metadata": {},
   "outputs": [
    {
     "data": {
      "text/plain": [
       "(1000, 13492)"
      ]
     },
     "execution_count": 47,
     "metadata": {},
     "output_type": "execute_result"
    }
   ],
   "source": [
    "test_feats = test_X[['HelpfulnessNumerator' ,\t'HelpfulnessDenominator']].values\n",
    "\n",
    "test_df = sparse.hstack(( test_feats, final_test_vectors))\n",
    "\n",
    "test_df.shape\n"
   ]
  },
  {
   "cell_type": "code",
   "execution_count": 49,
   "id": "b641fbd9",
   "metadata": {},
   "outputs": [
    {
     "data": {
      "text/plain": [
       "0.891"
      ]
     },
     "execution_count": 49,
     "metadata": {},
     "output_type": "execute_result"
    }
   ],
   "source": [
    "from sklearn.metrics import accuracy_score\n",
    "\n",
    "preds = model.predict(test_df)\n",
    "\n",
    "\n",
    "y_true = test_y\n",
    "\n",
    "accuracy_score(y_true, preds)"
   ]
  }
 ],
 "metadata": {
  "kernelspec": {
   "display_name": "Python 3 (ipykernel)",
   "language": "python",
   "name": "python3"
  },
  "language_info": {
   "codemirror_mode": {
    "name": "ipython",
    "version": 3
   },
   "file_extension": ".py",
   "mimetype": "text/x-python",
   "name": "python",
   "nbconvert_exporter": "python",
   "pygments_lexer": "ipython3",
   "version": "3.9.12"
  }
 },
 "nbformat": 4,
 "nbformat_minor": 5
}
